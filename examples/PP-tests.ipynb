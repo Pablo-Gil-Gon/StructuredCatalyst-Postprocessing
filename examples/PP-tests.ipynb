{
 "cells": [
  {
   "cell_type": "code",
   "execution_count": 68,
   "id": "f6838f7c",
   "metadata": {},
   "outputs": [],
   "source": [
    "# Import the python library with the post-processing functions:\n",
    "import sys\n",
    "import importlib\n",
    "sys.path.insert(0, '../source')\n",
    "\n",
    "import postprocessing_functions\n",
    "importlib.reload(postprocessing_functions)\n",
    "\n",
    "from postprocessing_functions import CaseParameters, load_case_properties, read_simulation_data"
   ]
  },
  {
   "cell_type": "code",
   "execution_count": 69,
   "id": "982509df",
   "metadata": {},
   "outputs": [],
   "source": [
    "# Path to the example simulation case:\n",
    "case_path = \"Resources/Catalyst_P-0.15_n-7_nl-2_Re-20/\"\n",
    "\n",
    "# Config file name (same as default)\n",
    "# config_file_name= 'caseConfig.sh'\n",
    "\n",
    "case_params = load_case_properties(case_path)"
   ]
  },
  {
   "cell_type": "code",
   "execution_count": 70,
   "id": "ac2951e2",
   "metadata": {},
   "outputs": [
    {
     "name": "stdout",
     "output_type": "stream",
     "text": [
      "CaseParameters (\n",
      "  fluid_rho   = 1.19 [kg/m3]\n",
      "  solid_rho   = 7800 [kg/m3]\n",
      "  fluid_cp    = 1004.9 [J/(Kg*K)]\n",
      "  solid_cp    = 510 [J/(Kg*K)]\n",
      "  fluid_Pr    = 0.7 [-]\n",
      "  fluid_k     = 0.021534 [W/(m*K)]\n",
      "  solid_k     = 18 [W/(m*K)]\n",
      "  fluid_mu    = 1.5e-05 [Pa*s]\n",
      "  R           = 0.01 [m]\n",
      "  Rchannels   = 0.0014639 [m]\n",
      "  Rep         = 20 [-]\n",
      "  wallTemp    = 300 [K]\n",
      "  inletTemp   = 500 [K]\n",
      ")\n"
     ]
    }
   ],
   "source": [
    "print(case_params)"
   ]
  },
  {
   "cell_type": "code",
   "execution_count": 71,
   "id": "649375c8",
   "metadata": {},
   "outputs": [
    {
     "name": "stdout",
     "output_type": "stream",
     "text": [
      "Time required for reading the fluidmesh =  2.756420373916626\n",
      "Time required for reading the solidmesh =  12.365212202072144\n",
      "Timesteps momentum simulation:  ['0', '0.100014', '0.199939', '0.299984', '0.400021', '0.500053']\n",
      "Timesteps thermal simulation:  ['0', '3.000025', '6.0000491', '8.9999479', '11.99997246', '14.9999970125']\n"
     ]
    }
   ],
   "source": [
    "read_simulation_data(case_path)\n"
   ]
  },
  {
   "cell_type": "code",
   "execution_count": 72,
   "id": "cc4217cb",
   "metadata": {},
   "outputs": [
    {
     "name": "stdout",
     "output_type": "stream",
     "text": [
      "Time saving data to joblib =  12.79616928100586\n"
     ]
    }
   ],
   "source": [
    "import time\n",
    "import joblib\n",
    "time1 = time.time()\n",
    "data = joblib.load('datafilename')\n",
    "\n",
    "time2 = time.time()\n",
    "print(\"Time saving data to joblib = \", time2-time1)\n",
    "\n"
   ]
  },
  {
   "cell_type": "code",
   "execution_count": 73,
   "id": "6c08fe34",
   "metadata": {},
   "outputs": [
    {
     "name": "stdout",
     "output_type": "stream",
     "text": [
      "5\n",
      "132485\n",
      "132485\n",
      "<class 'numpy.ndarray'> (3,)\n"
     ]
    },
    {
     "data": {
      "text/plain": [
       "132485"
      ]
     },
     "execution_count": 73,
     "metadata": {},
     "output_type": "execute_result"
    }
   ],
   "source": [
    "import Ofpp\n",
    "Tfluid = data[\"VelocityField\"]\n",
    "print(len(Tfluid))\n",
    "print(len(Tfluid[0]))\n",
    "print(len(Tfluid[2]))\n",
    "print(type(Tfluid[2][10]), Tfluid[2][10].shape)\n",
    "\n",
    "fluidmesh = data[\"FluidMesh\"]\n",
    "len(fluidmesh.cell_centres)"
   ]
  },
  {
   "cell_type": "code",
   "execution_count": 74,
   "id": "536f9f91",
   "metadata": {},
   "outputs": [
    {
     "name": "stdout",
     "output_type": "stream",
     "text": [
      "['str1', 'str2', 'str3']\n",
      "<class 'list'>\n"
     ]
    }
   ],
   "source": [
    "lista = []\n",
    "lista.append(\"str1\")\n",
    "lista.append(\"str2\")\n",
    "lista.append(\"str3\")\n",
    "\n",
    "print(lista)\n",
    "print(type(lista))"
   ]
  }
 ],
 "metadata": {
  "kernelspec": {
   "display_name": "OpenFoamPostProcessing",
   "language": "python",
   "name": "python3"
  },
  "language_info": {
   "codemirror_mode": {
    "name": "ipython",
    "version": 3
   },
   "file_extension": ".py",
   "mimetype": "text/x-python",
   "name": "python",
   "nbconvert_exporter": "python",
   "pygments_lexer": "ipython3",
   "version": "3.13.0"
  }
 },
 "nbformat": 4,
 "nbformat_minor": 5
}
