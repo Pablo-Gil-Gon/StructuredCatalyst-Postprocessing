{
 "cells": [
  {
   "cell_type": "code",
   "execution_count": 18,
   "id": "f6838f7c",
   "metadata": {},
   "outputs": [
    {
     "name": "stderr",
     "output_type": "stream",
     "text": [
      "/home/pablo/Documents/TFM/StructuredCatalyst-Postprocessing/examples/../source/postprocessing_functions.py:300: SyntaxWarning: \"is\" with 'int' literal. Did you mean \"==\"?\n",
      "/home/pablo/Documents/TFM/StructuredCatalyst-Postprocessing/examples/../source/postprocessing_functions.py:304: SyntaxWarning: \"is\" with 'int' literal. Did you mean \"==\"?\n"
     ]
    }
   ],
   "source": [
    "# Import the python library with the post-processing functions:\n",
    "import sys\n",
    "import importlib\n",
    "sys.path.insert(0, '../source')\n",
    "\n",
    "import postprocessing_functions\n",
    "importlib.reload(postprocessing_functions)\n",
    "\n",
    "from postprocessing_functions import CaseParameters, load_case_properties, read_simulation_data"
   ]
  },
  {
   "cell_type": "code",
   "execution_count": 19,
   "id": "982509df",
   "metadata": {},
   "outputs": [],
   "source": [
    "# Path to the example simulation case:\n",
    "case_path = \"Resources/Catalyst_P-0.15_n-7_nl-2_Re-20\"\n",
    "\n",
    "# Config file name (same as default)\n",
    "# config_file_name= 'caseConfig.sh'\n",
    "\n",
    "case_params = load_case_properties(case_path)"
   ]
  },
  {
   "cell_type": "code",
   "execution_count": 20,
   "id": "ac2951e2",
   "metadata": {},
   "outputs": [
    {
     "name": "stdout",
     "output_type": "stream",
     "text": [
      "CaseParameters (\n",
      "  fluid_rho   = 1.19 [kg/m3]\n",
      "  solid_rho   = 7800 [kg/m3]\n",
      "  fluid_cp    = 1004.9 [J/(Kg*K)]\n",
      "  solid_cp    = 510 [J/(Kg*K)]\n",
      "  fluid_Pr    = 0.7 [-]\n",
      "  fluid_k     = 0.021534 [W/(m*K)]\n",
      "  solid_k     = 18 [W/(m*K)]\n",
      "  fluid_mu    = 1.5e-05 [Pa*s]\n",
      "  R           = 0.01 [m]\n",
      "  Rchannels   = 0.0014639 [m]\n",
      "  Rep         = 20 [-]\n",
      "  wallTemp    = 300 [K]\n",
      "  inletTemp   = 500 [K]\n",
      ")\n"
     ]
    }
   ],
   "source": [
    "print(case_params)"
   ]
  },
  {
   "cell_type": "code",
   "execution_count": 21,
   "id": "649375c8",
   "metadata": {},
   "outputs": [
    {
     "name": "stdout",
     "output_type": "stream",
     "text": [
      "Time required for reading the fluidmesh =  3.1728696823120117\n",
      "Can not open file Resources/Catalyst_P-0.15_n-7_nl-2_Re-200/FluidRegion/C\n",
      "Can not open file Resources/Catalyst_P-0.15_n-7_nl-2_Re-200/FluidRegion/V\n",
      "Time reading fluidmesh centres and volumes =  0.00027179718017578125\n",
      "Time required for reading the solidmesh =  10.370598316192627\n",
      "Can not open file Resources/Catalyst_P-0.15_n-7_nl-2_Re-200/CatalystRegion/C\n",
      "Can not open file Resources/Catalyst_P-0.15_n-7_nl-2_Re-200/CatalystRegion/V\n",
      "Time reading solidmesh centres and volumes =  0.00010800361633300781\n",
      "['0', '3.000025', '6.0000491', '8.9999479', '11.99997246', '14.9999970125']\n"
     ]
    },
    {
     "data": {
      "text/plain": [
       "True"
      ]
     },
     "execution_count": 21,
     "metadata": {},
     "output_type": "execute_result"
    }
   ],
   "source": [
    "read_simulation_data(case_path)"
   ]
  },
  {
   "cell_type": "code",
   "execution_count": 22,
   "id": "536f9f91",
   "metadata": {},
   "outputs": [
    {
     "name": "stdout",
     "output_type": "stream",
     "text": [
      "['str1', 'str2', 'str3']\n",
      "<class 'list'>\n"
     ]
    }
   ],
   "source": [
    "lista = []\n",
    "lista.append(\"str1\")\n",
    "lista.append(\"str2\")\n",
    "lista.append(\"str3\")\n",
    "\n",
    "print(lista)\n",
    "print(type(lista))"
   ]
  }
 ],
 "metadata": {
  "kernelspec": {
   "display_name": "OpenFoamPostProcessing",
   "language": "python",
   "name": "python3"
  },
  "language_info": {
   "codemirror_mode": {
    "name": "ipython",
    "version": 3
   },
   "file_extension": ".py",
   "mimetype": "text/x-python",
   "name": "python",
   "nbconvert_exporter": "python",
   "pygments_lexer": "ipython3",
   "version": "3.13.0"
  }
 },
 "nbformat": 4,
 "nbformat_minor": 5
}
