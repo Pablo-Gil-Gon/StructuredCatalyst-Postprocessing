{
 "cells": [
  {
   "cell_type": "code",
   "execution_count": 17,
   "id": "f6838f7c",
   "metadata": {},
   "outputs": [],
   "source": [
    "# Import the python library with the post-processing functions:\n",
    "import sys\n",
    "import importlib\n",
    "import matplotlib.pyplot as plt\n",
    "sys.path.insert(0, '../source')\n",
    "\n",
    "import data_handling_functions\n",
    "import post_processing_functions\n",
    "importlib.reload(data_handling_functions)\n",
    "importlib.reload(post_processing_functions)\n",
    "\n",
    "from data_handling_functions import CaseParameters, load_case_properties, read_simulation_data\n",
    "from post_processing_functions import getAvg_p_rgh"
   ]
  },
  {
   "cell_type": "code",
   "execution_count": 18,
   "id": "982509df",
   "metadata": {},
   "outputs": [],
   "source": [
    "# Path to the example simulation case:\n",
    "case_path = \"Resources/Catalyst_P-0.15_n-7_nl-2_Re-20/\"\n",
    "\n",
    "# Config file name (same as default)\n",
    "# config_file_name= 'caseConfig.sh'\n",
    "\n",
    "case_params = load_case_properties(case_path)"
   ]
  },
  {
   "cell_type": "code",
   "execution_count": 19,
   "id": "ac2951e2",
   "metadata": {},
   "outputs": [
    {
     "name": "stdout",
     "output_type": "stream",
     "text": [
      "CaseParameters (\n",
      "  fluid_rho   = 1.19 [kg/m3]\n",
      "  solid_rho   = 7800 [kg/m3]\n",
      "  fluid_cp    = 1004.9 [J/(Kg*K)]\n",
      "  solid_cp    = 510 [J/(Kg*K)]\n",
      "  fluid_Pr    = 0.7 [-]\n",
      "  fluid_k     = 0.021534 [W/(m*K)]\n",
      "  solid_k     = 18 [W/(m*K)]\n",
      "  fluid_mu    = 1.5e-05 [Pa*s]\n",
      "  R           = 0.01 [m]\n",
      "  Rchannels   = 0.0014639 [m]\n",
      "  Rep         = 20 [-]\n",
      "  wallTemp    = 300 [K]\n",
      "  inletTemp   = 500 [K]\n",
      ")\n"
     ]
    }
   ],
   "source": [
    "print(case_params)"
   ]
  },
  {
   "cell_type": "code",
   "execution_count": 20,
   "id": "649375c8",
   "metadata": {},
   "outputs": [
    {
     "name": "stdout",
     "output_type": "stream",
     "text": [
      "Time required for reading the fluidmesh =  5.831324338912964\n",
      "Time required for reading the solidmesh =  11.596812725067139\n",
      "Timesteps momentum simulation:  ['0', '0.100014', '0.199939', '0.299984', '0.400021', '0.500053']\n",
      "Timesteps thermal simulation:  ['0', '3.000025', '6.0000491', '8.9999479', '11.99997246', '14.9999970125']\n"
     ]
    }
   ],
   "source": [
    "datafilename = read_simulation_data(case_path, mode='all')\n"
   ]
  },
  {
   "cell_type": "code",
   "execution_count": 44,
   "id": "cc4217cb",
   "metadata": {},
   "outputs": [
    {
     "name": "stdout",
     "output_type": "stream",
     "text": [
      "Time saving data to joblib =  23.369480848312378\n"
     ]
    }
   ],
   "source": [
    "import time\n",
    "import joblib\n",
    "time1 = time.time()\n",
    "data = joblib.load(datafilename)\n",
    "\n",
    "time2 = time.time()\n",
    "print(\"Time saving data to joblib = \", time2-time1)\n",
    "\n"
   ]
  },
  {
   "cell_type": "code",
   "execution_count": 21,
   "id": "16de6a5b",
   "metadata": {},
   "outputs": [],
   "source": [
    "import joblib\n",
    "data = joblib.load(\"Resources/Catalyst_P-0.15_n-7_nl-2_Re-20/Case_P0.15_Re20.0_DATA.joblib\")\n",
    "\n"
   ]
  },
  {
   "cell_type": "code",
   "execution_count": 23,
   "id": "96133f64",
   "metadata": {},
   "outputs": [
    {
     "name": "stdout",
     "output_type": "stream",
     "text": [
      "0.00749996657205\n",
      "5\n",
      "['0.100014', '0.199939', '0.299984', '0.400021', '0.500053']\n",
      "0\n",
      "0.180096\n",
      "1\n",
      "0.180084\n",
      "2\n",
      "0.180077\n",
      "3\n",
      "0.180075\n",
      "4\n",
      "0.180074\n"
     ]
    },
    {
     "data": {
      "image/png": "[encoded data removed]",
      "text/plain": [
       "<Figure size 640x480 with 1 Axes>"
      ]
     },
     "metadata": {},
     "output_type": "display_data"
    }
   ],
   "source": [
    "z_dots, avg_p = getAvg_p_rgh( data, 100 )\n",
    "\n",
    "plt.plot(z_dots, avg_p[0])\n",
    "plt.plot(z_dots, avg_p[4])\n",
    "plt.show()"
   ]
  },
  {
   "cell_type": "code",
   "execution_count": null,
   "id": "6c08fe34",
   "metadata": {},
   "outputs": [
    {
     "name": "stdout",
     "output_type": "stream",
     "text": [
      "5\n",
      "132485\n",
      "132485\n",
      "<class 'numpy.ndarray'> (3,)\n"
     ]
    },
    {
     "data": {
      "text/plain": [
       "132485"
      ]
     },
     "execution_count": 18,
     "metadata": {},
     "output_type": "execute_result"
    }
   ],
   "source": [
    "import Ofpp\n",
    "Tfluid = data[\"VelocityField\"]\n",
    "print(len(Tfluid))\n",
    "print(len(Tfluid[0]))\n",
    "print(len(Tfluid[2]))\n",
    "print(type(Tfluid[2][10]), Tfluid[2][10].shape)\n",
    "\n",
    "fluidmesh = data[\"FluidMesh\"]\n",
    "len(fluidmesh.cell_centres)"
   ]
  },
  {
   "cell_type": "code",
   "execution_count": null,
   "id": "536f9f91",
   "metadata": {},
   "outputs": [
    {
     "name": "stdout",
     "output_type": "stream",
     "text": [
      "['str1', 'str2', 'str3']\n",
      "<class 'list'>\n"
     ]
    }
   ],
   "source": [
    "lista = []\n",
    "lista.append(\"str1\")\n",
    "lista.append(\"str2\")\n",
    "lista.append(\"str3\")\n",
    "\n",
    "print(lista)\n",
    "print(type(lista))"
   ]
  }
 ],
 "metadata": {
  "kernelspec": {
   "display_name": "OpenFoamPostProcessing",
   "language": "python",
   "name": "python3"
  },
  "language_info": {
   "codemirror_mode": {
    "name": "ipython",
    "version": 3
   },
   "file_extension": ".py",
   "mimetype": "text/x-python",
   "name": "python",
   "nbconvert_exporter": "python",
   "pygments_lexer": "ipython3",
   "version": "3.13.0"
  }
 },
 "nbformat": 4,
 "nbformat_minor": 5
}
